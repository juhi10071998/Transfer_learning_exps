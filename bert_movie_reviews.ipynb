{
  "cells": [
    {
      "cell_type": "markdown",
      "metadata": {
        "id": "view-in-github",
        "colab_type": "text"
      },
      "source": [
        "<a href=\"https://colab.research.google.com/github/juhi10071998/Transfer_learning_exps/blob/main/bert_movie_reviews.ipynb\" target=\"_parent\"><img src=\"https://colab.research.google.com/assets/colab-badge.svg\" alt=\"Open In Colab\"/></a>"
      ]
    },
    {
      "cell_type": "code",
      "execution_count": null,
      "metadata": {
        "colab": {
          "base_uri": "https://localhost:8080/"
        },
        "id": "xSICYYzPD-lm",
        "outputId": "81adc677-410d-459a-e667-59a56a3f04f0"
      },
      "outputs": [
        {
          "output_type": "stream",
          "name": "stdout",
          "text": [
            "Looking in indexes: https://pypi.org/simple, https://us-python.pkg.dev/colab-wheels/public/simple/\n",
            "Requirement already satisfied: pytorch_pretrained_bert in /usr/local/lib/python3.7/dist-packages (0.6.2)\n",
            "Requirement already satisfied: pytorch-nlp in /usr/local/lib/python3.7/dist-packages (0.5.0)\n",
            "Requirement already satisfied: tqdm in /usr/local/lib/python3.7/dist-packages (from pytorch_pretrained_bert) (4.64.0)\n",
            "Requirement already satisfied: regex in /usr/local/lib/python3.7/dist-packages (from pytorch_pretrained_bert) (2022.6.2)\n",
            "Requirement already satisfied: torch>=0.4.1 in /usr/local/lib/python3.7/dist-packages (from pytorch_pretrained_bert) (1.11.0+cu113)\n",
            "Requirement already satisfied: numpy in /usr/local/lib/python3.7/dist-packages (from pytorch_pretrained_bert) (1.21.6)\n",
            "Requirement already satisfied: requests in /usr/local/lib/python3.7/dist-packages (from pytorch_pretrained_bert) (2.23.0)\n",
            "Requirement already satisfied: boto3 in /usr/local/lib/python3.7/dist-packages (from pytorch_pretrained_bert) (1.24.18)\n",
            "Requirement already satisfied: typing-extensions in /usr/local/lib/python3.7/dist-packages (from torch>=0.4.1->pytorch_pretrained_bert) (4.1.1)\n",
            "Requirement already satisfied: s3transfer<0.7.0,>=0.6.0 in /usr/local/lib/python3.7/dist-packages (from boto3->pytorch_pretrained_bert) (0.6.0)\n",
            "Requirement already satisfied: jmespath<2.0.0,>=0.7.1 in /usr/local/lib/python3.7/dist-packages (from boto3->pytorch_pretrained_bert) (1.0.1)\n",
            "Requirement already satisfied: botocore<1.28.0,>=1.27.18 in /usr/local/lib/python3.7/dist-packages (from boto3->pytorch_pretrained_bert) (1.27.18)\n",
            "Requirement already satisfied: python-dateutil<3.0.0,>=2.1 in /usr/local/lib/python3.7/dist-packages (from botocore<1.28.0,>=1.27.18->boto3->pytorch_pretrained_bert) (2.8.2)\n",
            "Requirement already satisfied: urllib3<1.27,>=1.25.4 in /usr/local/lib/python3.7/dist-packages (from botocore<1.28.0,>=1.27.18->boto3->pytorch_pretrained_bert) (1.25.11)\n",
            "Requirement already satisfied: six>=1.5 in /usr/local/lib/python3.7/dist-packages (from python-dateutil<3.0.0,>=2.1->botocore<1.28.0,>=1.27.18->boto3->pytorch_pretrained_bert) (1.15.0)\n",
            "Requirement already satisfied: chardet<4,>=3.0.2 in /usr/local/lib/python3.7/dist-packages (from requests->pytorch_pretrained_bert) (3.0.4)\n",
            "Requirement already satisfied: idna<3,>=2.5 in /usr/local/lib/python3.7/dist-packages (from requests->pytorch_pretrained_bert) (2.10)\n",
            "Requirement already satisfied: certifi>=2017.4.17 in /usr/local/lib/python3.7/dist-packages (from requests->pytorch_pretrained_bert) (2022.6.15)\n"
          ]
        }
      ],
      "source": [
        "!pip install pytorch_pretrained_bert pytorch-nlp"
      ]
    },
    {
      "cell_type": "code",
      "execution_count": null,
      "metadata": {
        "id": "2aR3Q9miEFKe"
      },
      "outputs": [],
      "source": [
        "import sys\n",
        "import numpy as np\n",
        "import random as rn\n",
        "import torch\n",
        "from pytorch_pretrained_bert import BertModel\n",
        "from torch import nn\n",
        "from torchnlp.datasets import imdb_dataset\n",
        "from pytorch_pretrained_bert import BertTokenizer\n",
        "from keras.preprocessing.sequence import pad_sequences\n",
        "from torch.utils.data import TensorDataset, DataLoader, RandomSampler, SequentialSampler\n",
        "from torch.optim import Adam\n",
        "from torch.nn.utils import clip_grad_norm_\n",
        "from IPython.display import clear_output"
      ]
    },
    {
      "cell_type": "code",
      "execution_count": null,
      "metadata": {
        "id": "CN2UBnQnEi8G"
      },
      "outputs": [],
      "source": [
        "rn.seed(321)\n",
        "np.random.seed(321)\n",
        "torch.manual_seed(321)\n",
        "torch.cuda.manual_seed(321)"
      ]
    },
    {
      "cell_type": "code",
      "execution_count": null,
      "metadata": {
        "id": "CalmrN6KEodv"
      },
      "outputs": [],
      "source": [
        "train_data, test_data = imdb_dataset(train=True, test=True)\n",
        "rn.shuffle(train_data)\n",
        "rn.shuffle(test_data)\n",
        "train_data = train_data[:1000]\n",
        "test_data = test_data[:100]"
      ]
    },
    {
      "cell_type": "code",
      "execution_count": null,
      "metadata": {
        "colab": {
          "base_uri": "https://localhost:8080/"
        },
        "id": "yF-EjyP_F4ie",
        "outputId": "8eb33837-d84c-487e-d1c8-011b097fd40c"
      },
      "outputs": [
        {
          "output_type": "execute_result",
          "data": {
            "text/plain": [
              "[{'sentiment': 'pos',\n",
              "  'text': \"War is hell. But this documentary of WWII is heaven.<br /><br />Not only is this series a breath-taking, almost-exhaustive look at the Second World War, it's a poetic masterpiece told clearly and superbly by Laurence Olivier.<br /><br />This documentary series defines the genre. It's sweepingly long, no doubt, but you will enjoy all of them and want to come back for more and more. (I have the series on DVD and I probably watch the series three times a year).<br /><br />Truly, this is an impeccable bit of film-making. Other than Olivier, the best part of the series is listening to the veterans tell their stories; whether it be about an actual battle or about finding a hog to butcher so they could have something delicious for supper.<br /><br />I'm going to go watch it right now (again, my... 11th time).\"},\n",
              " {'sentiment': 'pos',\n",
              "  'text': 'Due to the invention of a \"The Domestication Collar\", flesh-eating zombies are brought under control, and become productive members of society; however, they perform menial tasks. The servile dead attend to those living in fenced US 1950s-styled small towns, while untamed zombies roam around in \"The Wild Zone\". In the town of \"Willard\", pre-teen K\\'Sun Ray (as Timmy Robinson) lives with parents Carrie-Anne Moss and Dylan Baker (as Helen and Bill Robinson). Alas, the Robinsons are the only family on their street who do not own a zombie; their new neighbors, the Bottoms, have six. So, to keep up, the Robinsons obtain zombie Billy Connolly (as Fido).<br /><br />Unfortunately, Mr. Connolly\\'s \"Domestication Collar\" is damaged by an old lady\\'s walker, and he eats her; then, new and hungry zombies infest the town. Meanwhile, young Ray has grown attached to Connolly (the boy and his zombie are like TV\\'s \"Timmy and Lassie\") and, the Robinson family find it difficult to cooperate with the controlling \"Zomcom\" authorities. <br /><br />\"Fido\" doesn\\'t go far enough into its own intriguing \"Wild Zone\"; but, it is a colorful, stylish, and amusingly satirical addition to zombie film lore. Ray and the cast perform well, individually; with nubile zombie Sonja Bennett (as Tammy) and owner Tim Blake Nelson (as Theopolis) the most memorable pair. Director Andrew Currie and crew, including Rob Gray (design), Jan Kiesser (photography), Don MacDonald (music), and James Willcock (design), deservedly won awards.<br /><br />******* Fido (2006) Andrew Currie ~ K\\'Sun Ray, Carrie-Anne Moss, Billy Connolly, Dylan Baker'},\n",
              " {'sentiment': 'pos',\n",
              "  'text': 'Return to Cabin by the Lake is Perhaps one of The Few Sequels that Can Live up to The Original. It Had Black Humor, Good Suspense, Nice Looking Girls, and Of Course, a Psycho Killer. What are We Missing? I Think Nothing. Except we Are Left with a Small Amount of Gore and Nudity because It Was Made for Television. Besides Being one Of The Best Sequels, it is one of The Best Thrillers to Watch as a Family. Recommended for Everyone.'}]"
            ]
          },
          "metadata": {},
          "execution_count": 5
        }
      ],
      "source": [
        "train_data[0:3]"
      ]
    },
    {
      "cell_type": "code",
      "execution_count": null,
      "metadata": {
        "colab": {
          "base_uri": "https://localhost:8080/"
        },
        "id": "1XRw3c3JF-Rf",
        "outputId": "4cf0d731-d78b-42a4-95a1-319499613a50"
      },
      "outputs": [
        {
          "output_type": "execute_result",
          "data": {
            "text/plain": [
              "(1000, 1000, 100, 100)"
            ]
          },
          "metadata": {},
          "execution_count": 6
        }
      ],
      "source": [
        "train_texts, train_labels = list(zip(*map(lambda d: (d['text'], d['sentiment']), train_data)))\n",
        "test_texts, test_labels = list(zip(*map(lambda d: (d['text'], d['sentiment']), test_data)))\n",
        "(T1,S1),(T2,S2)\n",
        "\n",
        "[T1,T2,]\n",
        "len(train_texts), len(train_labels), len(test_texts), len(test_labels)"
      ]
    },
    {
      "cell_type": "code",
      "execution_count": null,
      "metadata": {
        "id": "qhZYak7JGPOV"
      },
      "outputs": [],
      "source": [
        "tokenizer = BertTokenizer.from_pretrained('bert-base-uncased', do_lower_case=True)\n"
      ]
    },
    {
      "cell_type": "code",
      "execution_count": null,
      "metadata": {
        "colab": {
          "base_uri": "https://localhost:8080/"
        },
        "id": "Ec06X4hCGlVg",
        "outputId": "e3238984-bd3b-4852-cdbe-845a5882c986"
      },
      "outputs": [
        {
          "output_type": "execute_result",
          "data": {
            "text/plain": [
              "['hi', 'my', 'name', 'is', 'dim', '##a']"
            ]
          },
          "metadata": {},
          "execution_count": 8
        }
      ],
      "source": [
        "tokenizer.tokenize('Hi my name is Dima')\n"
      ]
    },
    {
      "cell_type": "code",
      "execution_count": null,
      "metadata": {
        "colab": {
          "base_uri": "https://localhost:8080/"
        },
        "id": "_aaWLjopN4PC",
        "outputId": "e7e798cf-b166-44a5-c372-6586b0f3fa16"
      },
      "outputs": [
        {
          "output_type": "execute_result",
          "data": {
            "text/plain": [
              "(1000, 100)"
            ]
          },
          "metadata": {},
          "execution_count": 9
        }
      ],
      "source": [
        "train_tokens = list(map(lambda t: ['[CLS]'] + tokenizer.tokenize(t)[:510] + ['[SEP]'], train_texts))\n",
        "test_tokens = list(map(lambda t: ['[CLS]'] + tokenizer.tokenize(t)[:510] + ['[SEP]'], test_texts))\n",
        "\n",
        "len(train_tokens), len(test_tokens)   "
      ]
    },
    {
      "cell_type": "code",
      "execution_count": null,
      "metadata": {
        "colab": {
          "base_uri": "https://localhost:8080/"
        },
        "id": "KiLMUC7yOCCE",
        "outputId": "32218e6e-4c36-4bb1-863e-fe25caaa6627"
      },
      "outputs": [
        {
          "output_type": "execute_result",
          "data": {
            "text/plain": [
              "((1000, 512), (100, 512))"
            ]
          },
          "metadata": {},
          "execution_count": 10
        }
      ],
      "source": [
        "train_tokens_ids = pad_sequences(list(map(tokenizer.convert_tokens_to_ids, train_tokens)), maxlen=512, truncating=\"post\", padding=\"post\", dtype=\"int\")\n",
        "test_tokens_ids = pad_sequences(list(map(tokenizer.convert_tokens_to_ids, test_tokens)), maxlen=512, truncating=\"post\", padding=\"post\", dtype=\"int\")\n",
        "\n",
        "train_tokens_ids.shape, test_tokens_ids.shape"
      ]
    },
    {
      "cell_type": "code",
      "execution_count": null,
      "metadata": {
        "colab": {
          "base_uri": "https://localhost:8080/"
        },
        "id": "5nBDNOYgOhaz",
        "outputId": "bc379abc-0735-4306-c3c4-78f200a9d155"
      },
      "outputs": [
        {
          "output_type": "execute_result",
          "data": {
            "text/plain": [
              "((1000,), (100,), 0.489, 0.5)"
            ]
          },
          "metadata": {},
          "execution_count": 11
        }
      ],
      "source": [
        "train_y = np.array(train_labels) == 'pos'\n",
        "test_y = np.array(test_labels) == 'pos'\n",
        "train_y.shape, test_y.shape, np.mean(train_y), np.mean(test_y)"
      ]
    },
    {
      "cell_type": "code",
      "execution_count": null,
      "metadata": {
        "id": "niuPjDzGOhdY"
      },
      "outputs": [],
      "source": [
        "train_masks = [[float(i > 0) for i in ii] for ii in train_tokens_ids]\n",
        "test_masks = [[float(i > 0) for i in ii] for ii in test_tokens_ids]"
      ]
    },
    {
      "cell_type": "markdown",
      "metadata": {
        "id": "R3zNA64WW3xR"
      },
      "source": [
        "Using the output of the pre trained BERT model, the final CLS token, and passing it to the classification layer. (feature based approach)\n"
      ]
    },
    {
      "cell_type": "code",
      "execution_count": null,
      "metadata": {
        "id": "If2NL0jROhft"
      },
      "outputs": [],
      "source": [
        "class BertBinaryClassifier(nn.Module):\n",
        "  def __init__(self, dropout = 0.1):\n",
        "    super(BertBinaryClassifier, self).__init__()\n",
        "    self.bert = BertModel.from_pretrained('bert-base-uncased')\n",
        "    self.dropout = nn.Dropout(dropout)\n",
        "    self.linear = nn.Linear(768,1)\n",
        "    self.sigmoid = nn.Sigmoid()\n",
        "\n",
        "  def forward(self, tokens, masks = None):\n",
        "    _,pooled_output = self.bert(tokens, attention_mask = masks, output_all_encoded_layers = False)\n",
        "    pooled_output = self.dropout(pooled_output)\n",
        "    pooled_output = self.linear(pooled_output)\n",
        "    probability = self.sigmoid(pooled_output)\n",
        "    return probability\n"
      ]
    },
    {
      "cell_type": "code",
      "execution_count": null,
      "metadata": {
        "id": "M-I1gh3QOhiE"
      },
      "outputs": [],
      "source": [
        "bert_model = BertBinaryClassifier()"
      ]
    },
    {
      "cell_type": "code",
      "execution_count": null,
      "metadata": {
        "id": "VmwhkVz6Ohkb"
      },
      "outputs": [],
      "source": [
        "device = torch.device(\"cuda\" if torch.cuda.is_available() else \"cpu\")\n",
        "x = torch.tensor(train_tokens_ids[:3]).to(device)"
      ]
    },
    {
      "cell_type": "code",
      "execution_count": null,
      "metadata": {
        "colab": {
          "base_uri": "https://localhost:8080/",
          "height": 35
        },
        "id": "TeenaXkIOhmy",
        "outputId": "bf04d0cc-e17a-40fd-c668-44569cc34f97"
      },
      "outputs": [
        {
          "output_type": "execute_result",
          "data": {
            "text/plain": [
              "'0.012288M'"
            ],
            "application/vnd.google.colaboratory.intrinsic+json": {
              "type": "string"
            }
          },
          "metadata": {},
          "execution_count": 16
        }
      ],
      "source": [
        "str(torch.cuda.memory_allocated(device)/1000000 ) + 'M'\n"
      ]
    },
    {
      "cell_type": "code",
      "execution_count": null,
      "metadata": {
        "colab": {
          "base_uri": "https://localhost:8080/",
          "height": 35
        },
        "id": "mi8OlFg3aAjB",
        "outputId": "bf27035d-d6f0-41ad-f3aa-d870242246cb"
      },
      "outputs": [
        {
          "output_type": "execute_result",
          "data": {
            "text/plain": [
              "'439.077376M'"
            ],
            "application/vnd.google.colaboratory.intrinsic+json": {
              "type": "string"
            }
          },
          "metadata": {},
          "execution_count": 17
        }
      ],
      "source": [
        "bert_model.cuda()\n",
        "str(torch.cuda.memory_allocated(device)/1000000 ) + 'M'\n"
      ]
    },
    {
      "cell_type": "code",
      "execution_count": null,
      "metadata": {
        "colab": {
          "base_uri": "https://localhost:8080/"
        },
        "id": "9OMS-cjqOho1",
        "outputId": "cd15ad65-143e-4acf-92e6-a07c4ddd8fe7"
      },
      "outputs": [
        {
          "output_type": "stream",
          "name": "stdout",
          "text": [
            " y shape is 3 and pooled output shape is 4\n"
          ]
        }
      ],
      "source": [
        "y, pooled_output = bert_model.bert(x, output_all_encoded_layers=False)\n",
        "print(f\" y shape is {len(y)} and pooled output shape is {4}\")"
      ]
    },
    {
      "cell_type": "code",
      "execution_count": null,
      "metadata": {
        "id": "32sQr8DhZ5ju"
      },
      "outputs": [],
      "source": [
        "prob = bert_model(x)"
      ]
    },
    {
      "cell_type": "code",
      "execution_count": null,
      "metadata": {
        "colab": {
          "base_uri": "https://localhost:8080/"
        },
        "id": "-CFbD0TDaVPu",
        "outputId": "1ad6bdc0-a82a-4989-bfdc-94b08f07f734"
      },
      "outputs": [
        {
          "output_type": "execute_result",
          "data": {
            "text/plain": [
              "tensor([[0.4063],\n",
              "        [0.4388],\n",
              "        [0.3783]], device='cuda:0', grad_fn=<SigmoidBackward0>)"
            ]
          },
          "metadata": {},
          "execution_count": 20
        }
      ],
      "source": [
        "prob"
      ]
    },
    {
      "cell_type": "code",
      "execution_count": null,
      "metadata": {
        "colab": {
          "base_uri": "https://localhost:8080/",
          "height": 35
        },
        "id": "qqBoV7qmbQRp",
        "outputId": "beb0ac18-c107-462b-de81-5c5dab501b96"
      },
      "outputs": [
        {
          "output_type": "execute_result",
          "data": {
            "text/plain": [
              "'5791.379968M'"
            ],
            "application/vnd.google.colaboratory.intrinsic+json": {
              "type": "string"
            }
          },
          "metadata": {},
          "execution_count": 21
        }
      ],
      "source": [
        "y, x, pooled = None, None, None\n",
        "torch.cuda.empty_cache()\n",
        "str(torch.cuda.memory_allocated(device)/1000000 ) + 'M'"
      ]
    },
    {
      "cell_type": "code",
      "execution_count": null,
      "metadata": {
        "id": "-hJNFZHRcVdP"
      },
      "outputs": [],
      "source": [
        "BATCH_SIZE = 1\n",
        "EPOCHS = 2"
      ]
    },
    {
      "cell_type": "code",
      "execution_count": null,
      "metadata": {
        "colab": {
          "base_uri": "https://localhost:8080/"
        },
        "id": "fNsaXCx-cdmV",
        "outputId": "f82cef8f-a603-4bd8-f542-94b1bc770ea5"
      },
      "outputs": [
        {
          "output_type": "execute_result",
          "data": {
            "text/plain": [
              "(1000,)"
            ]
          },
          "metadata": {},
          "execution_count": 23
        }
      ],
      "source": [
        "train_y = np.array(train_labels) == 'pos'\n",
        "test_y = np.array(test_labels) == 'pos'\n",
        "train_y.shape\n"
      ]
    },
    {
      "cell_type": "code",
      "execution_count": null,
      "metadata": {
        "id": "7OyB4pD0bc8T"
      },
      "outputs": [],
      "source": [
        "train_tokens_tensor = torch.tensor(train_tokens_ids)\n",
        "train_y_tensor = torch.tensor(train_y.reshape(-1,1)).float()\n",
        "test_tokens_tensor = torch.tensor(test_tokens_ids)\n",
        "test_y_tensor = torch.tensor(test_y.reshape(-1,1)).float()\n",
        "train_masks_tensor = torch.tensor(train_masks)\n",
        "test_masks_tensor = torch.tensor(test_masks)"
      ]
    },
    {
      "cell_type": "code",
      "execution_count": null,
      "metadata": {
        "colab": {
          "base_uri": "https://localhost:8080/"
        },
        "id": "nY-a02mxc09b",
        "outputId": "19560555-787c-4cd6-be11-983564e63cd8"
      },
      "outputs": [
        {
          "output_type": "execute_result",
          "data": {
            "text/plain": [
              "torch.Size([100, 1])"
            ]
          },
          "metadata": {},
          "execution_count": 25
        }
      ],
      "source": [
        "train_y_tensor.shape\n",
        "test_y_tensor.shape"
      ]
    },
    {
      "cell_type": "code",
      "execution_count": null,
      "metadata": {
        "id": "hrpYTacOc7vx"
      },
      "outputs": [],
      "source": [
        "train_dataset = TensorDataset(train_tokens_tensor, train_masks_tensor, train_y_tensor)\n",
        "train_sampler = RandomSampler(train_dataset)\n",
        "train_dataloader = DataLoader(train_dataset, sampler=train_sampler, batch_size=BATCH_SIZE)\n",
        "\n",
        "test_dataset = TensorDataset(test_tokens_tensor, test_masks_tensor, test_y_tensor)\n",
        "test_sampler = SequentialSampler(test_dataset)\n",
        "test_dataloader = DataLoader(test_dataset, sampler=test_sampler, batch_size=BATCH_SIZE)"
      ]
    },
    {
      "cell_type": "code",
      "execution_count": null,
      "metadata": {
        "id": "GLn7YHRKdsu1"
      },
      "outputs": [],
      "source": [
        "optimizer = Adam(bert_model.parameters(), lr=3e-6)\n"
      ]
    },
    {
      "cell_type": "code",
      "source": [
        "param_optimizer = list(bert_model.sigmoid.named_parameters()) \n",
        "optimizer_grouped_parameters = [{\"params\": [p for n, p in param_optimizer]}]"
      ],
      "metadata": {
        "id": "1wLzAyg547g3"
      },
      "execution_count": null,
      "outputs": []
    },
    {
      "cell_type": "code",
      "execution_count": null,
      "metadata": {
        "id": "HxfsIBsfeV0P"
      },
      "outputs": [],
      "source": [
        "torch.cuda.empty_cache()\n"
      ]
    },
    {
      "cell_type": "code",
      "execution_count": null,
      "metadata": {
        "colab": {
          "base_uri": "https://localhost:8080/"
        },
        "id": "0bdlNn2UeZbf",
        "outputId": "e2211f2c-1f27-4518-b884-6464837c721b"
      },
      "outputs": [
        {
          "output_type": "stream",
          "name": "stdout",
          "text": [
            "step number is 999\n"
          ]
        }
      ],
      "source": [
        "for epoch_num in range(EPOCHS):\n",
        "  bert_model.train()\n",
        "  train_loss = 0\n",
        "  for step_number, batch_data in enumerate(train_dataloader):\n",
        "    print(f\"step number is {step_number}\")\n",
        "    ## extract data from each batch into respective tokens, masks and labels and put in device as model bhi device me h\n",
        "    token_ids, masks, labels = tuple(t.to(device) for t in batch_data)\n",
        "    logits = bert_model(token_ids, masks)\n",
        "    lossfun = nn.BCELoss()\n",
        "    batch_loss = lossfun(logits, labels)\n",
        "    train_loss+=batch_loss.item()\n",
        "    bert_model.zero_grad()\n",
        "    batch_loss.backward()\n",
        "    clip_grad_norm_(parameters=bert_model.parameters(), max_norm=1.0)\n",
        "    optimizer.step()\n",
        "    clear_output(wait=True)"
      ]
    },
    {
      "cell_type": "code",
      "execution_count": null,
      "metadata": {
        "id": "vUt_PrM6gUow"
      },
      "outputs": [],
      "source": [
        "bert_model.eval()\n",
        "bert_predicted = []\n",
        "all_logits = []\n",
        "with torch.no_grad():\n",
        "  for step_num, batch_data in enumerate(test_dataloader):\n",
        "    token_ids, masks, labels = tuple(t.to(device) for t in batch_data)\n",
        "    logits = bert_model(token_ids, masks)\n",
        "    numpy_logits = logits.cpu().detach().numpy()\n",
        "    bert_predicted += list(numpy_logits[:, 0] > 0.5)\n",
        "    all_logits += list(numpy_logits[:, 0])"
      ]
    },
    {
      "cell_type": "code",
      "execution_count": null,
      "metadata": {
        "id": "n8RXc05nhMS3",
        "colab": {
          "base_uri": "https://localhost:8080/"
        },
        "outputId": "8f9dc284-a0da-486a-f8f8-7e4ed0c19c20"
      },
      "outputs": [
        {
          "output_type": "stream",
          "name": "stdout",
          "text": [
            "              precision    recall  f1-score   support\n",
            "\n",
            "       False       0.98      0.84      0.90        50\n",
            "        True       0.86      0.98      0.92        50\n",
            "\n",
            "    accuracy                           0.91       100\n",
            "   macro avg       0.92      0.91      0.91       100\n",
            "weighted avg       0.92      0.91      0.91       100\n",
            "\n"
          ]
        }
      ],
      "source": [
        "from sklearn.metrics import classification_report\n",
        "print(classification_report(test_y, bert_predicted))\n"
      ]
    },
    {
      "cell_type": "code",
      "execution_count": null,
      "metadata": {
        "id": "AonvXUyzh5za"
      },
      "outputs": [],
      "source": [
        "1"
      ]
    }
  ],
  "metadata": {
    "accelerator": "GPU",
    "colab": {
      "name": "bert_movie_reviews.ipynb",
      "provenance": [],
      "authorship_tag": "ABX9TyPc/gh1k5nuPqpoJCBZgnAy",
      "include_colab_link": true
    },
    "gpuClass": "standard",
    "kernelspec": {
      "display_name": "Python 3",
      "name": "python3"
    },
    "language_info": {
      "name": "python"
    }
  },
  "nbformat": 4,
  "nbformat_minor": 0
}